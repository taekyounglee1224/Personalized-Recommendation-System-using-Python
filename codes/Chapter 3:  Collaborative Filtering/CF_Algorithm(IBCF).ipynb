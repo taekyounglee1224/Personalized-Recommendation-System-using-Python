{
  "nbformat": 4,
  "nbformat_minor": 0,
  "metadata": {
    "colab": {
      "provenance": []
    },
    "kernelspec": {
      "name": "python3",
      "display_name": "Python 3"
    },
    "language_info": {
      "name": "python"
    }
  },
  "cells": [
    {
      "cell_type": "markdown",
      "source": [
        "### 아이템 기반 CF"
      ],
      "metadata": {
        "id": "CK_utY7NxMdh"
      }
    },
    {
      "cell_type": "code",
      "execution_count": 1,
      "metadata": {
        "id": "mizoBSvHuiTF"
      },
      "outputs": [],
      "source": [
        "import pandas as pd\n",
        "import numpy as np\n",
        "import tensorflow as tf\n",
        "from tensorflow import keras\n",
        "\n",
        "u_cols = ['user_id', 'age', 'sex', 'occupation', 'zip_code']\n",
        "users = pd.read_csv('/content/drive/MyDrive/recosys/u.user', sep = '|', names = u_cols, encoding = 'latin-1')\n",
        "\n",
        "i_cols = ['movie_id', 'title', 'release_date', 'video_release_date', 'IMDB URL', 'unknown', 'Action',\n",
        "          'Adventure', 'Animation', 'Children\\'s', 'Comedy', 'Crime', 'Documentary', 'Drama', 'Fantasy', 'Film_Horror',\n",
        "          'Horror', 'Musical', 'Mystery', 'Romance', 'Sci-Fi', 'Thriller', 'war', 'western']\n",
        "\n",
        "movies = pd.read_csv('/content/drive/MyDrive/recosys/u.item', sep = '|', names = i_cols, encoding = 'latin-1')\n",
        "\n",
        "r_cols = ['user_id', 'movie_id', 'rating', 'timestamp']\n",
        "ratings = pd.read_csv('/content/drive/MyDrive/recosys/u.data', sep = '\\t', names = r_cols, encoding = 'latin-1')"
      ]
    },
    {
      "cell_type": "code",
      "source": [
        "from sklearn.model_selection import train_test_split\n",
        "x = ratings.copy()\n",
        "y = ratings['user_id']\n",
        "x_train, x_test, y_train, y_test = train_test_split(x, y, test_size = 0.25, stratify = y)\n",
        "\n",
        "def RMSE(y_true, y_pred):\n",
        "  return np.sqrt(np.mean((np.array(y_true)-np.array(y_pred))**2))\n",
        "\n",
        "def score(model):\n",
        "  id_pairs = zip(x_test['user_id'], x_test['movie_id'])\n",
        "  y_pred = np.array([model(user, movie) for (user, movie) in id_pairs])\n",
        "  y_true = np.array(x_test['rating'])\n",
        "\n",
        "  return RMSE(y_true, y_pred)"
      ],
      "metadata": {
        "id": "_J25rrL9x3sm"
      },
      "execution_count": 2,
      "outputs": []
    },
    {
      "cell_type": "code",
      "source": [
        "rating_matrix = x_train.pivot(index = 'user_id', columns = 'movie_id', values = 'rating')\n",
        "\n",
        "from sklearn.metrics.pairwise import cosine_similarity\n",
        "rating_matrix_t = np.transpose(rating_matrix)\n",
        "matrix_dummy = rating_matrix_t.copy().fillna(0)\n",
        "item_similarity = cosine_similarity(matrix_dummy, matrix_dummy)\n",
        "item_similarity = pd.DataFrame(item_similarity, index = rating_matrix_t.index, columns = rating_matrix_t.index)"
      ],
      "metadata": {
        "id": "HsOqpI89x6Jv"
      },
      "execution_count": 3,
      "outputs": []
    },
    {
      "cell_type": "code",
      "source": [
        "def cf_ibcf(user_id, movie_id):\n",
        "  if movie_id in item_similarity:\n",
        "    sim_scores = item_similarity[movie_id]\n",
        "    user_rating = rating_matrix_t[user_id]\n",
        "    non_rating_idx = user_rating[user_rating.isnull()].index\n",
        "    user_rating = user_rating.dropna()\n",
        "    sim_scores = sim_scores.drop(non_rating_idx)\n",
        "    mean_rating = np.dot(sim_scores, user_rating) / sim_scores.sum()\n",
        "\n",
        "  else:\n",
        "    mean_rating = 3.0\n",
        "\n",
        "  return mean_rating\n",
        "\n",
        "score(cf_ibcf)"
      ],
      "metadata": {
        "colab": {
          "base_uri": "https://localhost:8080/"
        },
        "id": "SoO1ik1DybwZ",
        "outputId": "60f7aa0f-ce0a-4f20-f80b-2bae9bd6c0a1"
      },
      "execution_count": 5,
      "outputs": [
        {
          "output_type": "execute_result",
          "data": {
            "text/plain": [
              "1.0138906743187113"
            ]
          },
          "metadata": {},
          "execution_count": 5
        }
      ]
    },
    {
      "cell_type": "code",
      "source": [],
      "metadata": {
        "id": "RVs0A4N2zWfo"
      },
      "execution_count": null,
      "outputs": []
    }
  ]
}