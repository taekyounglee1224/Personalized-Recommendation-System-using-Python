{
  "nbformat": 4,
  "nbformat_minor": 0,
  "metadata": {
    "colab": {
      "provenance": []
    },
    "kernelspec": {
      "name": "python3",
      "display_name": "Python 3"
    },
    "language_info": {
      "name": "python"
    }
  },
  "cells": [
    {
      "cell_type": "markdown",
      "source": [
        "### 기본 CF 알고리즘\n",
        "\n",
        "> 모든 사용자 간의 평가 유사도를 측정\n",
        "\n",
        "> 현재 추천 대상이 되는 사람과 다른 사용자의 유사도 추출\n",
        "\n",
        "> 현재 사용자가 평가하지 않은 모든 아이템에 대해 현재 사용자의 예상 평가 값을 구한다\n",
        "\n",
        "> 아이템 중 예상 평가 값이 가장 높은 N개의 아이템을 추천한다"
      ],
      "metadata": {
        "id": "0Iz9BRuAqviN"
      }
    },
    {
      "cell_type": "code",
      "execution_count": 1,
      "metadata": {
        "id": "f0jjaYfwoLiy"
      },
      "outputs": [],
      "source": [
        "import pandas as pd\n",
        "import numpy as np\n",
        "import tensorflow as tf\n",
        "from tensorflow import keras\n",
        "\n",
        "u_cols = ['user_id', 'age', 'sex', 'occupation', 'zip_code']\n",
        "users = pd.read_csv('/content/drive/MyDrive/recosys/u.user', sep = '|', names = u_cols, encoding = 'latin-1')\n",
        "\n",
        "i_cols = ['movie_id', 'title', 'release_date', 'video_release_date', 'IMDB URL', 'unknown', 'Action',\n",
        "          'Adventure', 'Animation', 'Children\\'s', 'Comedy', 'Crime', 'Documentary', 'Drama', 'Fantasy', 'Film_Horror',\n",
        "          'Horror', 'Musical', 'Mystery', 'Romance', 'Sci-Fi', 'Thriller', 'war', 'western']\n",
        "\n",
        "movies = pd.read_csv('/content/drive/MyDrive/recosys/u.item', sep = '|', names = i_cols, encoding = 'latin-1')\n",
        "\n",
        "r_cols = ['user_id', 'movie_id', 'rating', 'timestamp']\n",
        "ratings = pd.read_csv('/content/drive/MyDrive/recosys/u.data', sep = '\\t', names = r_cols, encoding = 'latin-1')"
      ]
    },
    {
      "cell_type": "code",
      "source": [
        "from sklearn.model_selection import train_test_split\n",
        "x = ratings.copy()\n",
        "y = ratings['user_id']\n",
        "x_train, x_test, y_train, y_test = train_test_split(x, y, test_size = 0.25, stratify = y)\n",
        "\n",
        "def RMSE(y_true, y_pred):\n",
        "  return np.sqrt(np.mean((np.array(y_true)-np.array(y_pred))**2))\n",
        "\n",
        "def score(model):\n",
        "  id_pairs = zip(x_test['user_id'], x_test['movie_id'])\n",
        "  y_pred = np.array([model(user, movie) for (user, movie) in id_pairs])\n",
        "  y_true = np.array(x_test['rating'])\n",
        "\n",
        "  return RMSE(y_true, y_pred)"
      ],
      "metadata": {
        "id": "EzvxYJK9MCdN"
      },
      "execution_count": 6,
      "outputs": []
    },
    {
      "cell_type": "code",
      "source": [
        "rating_matrix = x_train.pivot(index = 'user_id', columns = 'movie_id', values = 'rating')\n",
        "\n",
        "from sklearn.metrics.pairwise import cosine_similarity\n",
        "matrix_dummy = rating_matrix.copy().fillna(0)\n",
        "user_similarity = cosine_similarity(matrix_dummy, matrix_dummy)\n",
        "user_similarity = pd.DataFrame(user_similarity, index = rating_matrix.index, columns = rating_matrix.index)"
      ],
      "metadata": {
        "id": "MJHpr42vP3Rk"
      },
      "execution_count": 3,
      "outputs": []
    },
    {
      "cell_type": "code",
      "source": [
        "def CF_simple(user_id, movie_id):\n",
        "  if movie_id in rating_matrix:\n",
        "    sim_scores = user_similarity[user_id].copy()\n",
        "    movie_ratings = rating_matrix[movie_id].copy()\n",
        "    none_rating_idx = movie_ratings[movie_ratings.isnull()].index\n",
        "    movie_ratings = movie_ratings.dropna()\n",
        "    sim_scores = sim_scores.drop(none_rating_idx)\n",
        "    mean_rating = np.dot(sim_scores, movie_ratings)/sim_scores.sum()\n",
        "\n",
        "  else:\n",
        "    mean_rating = 3.0\n",
        "\n",
        "  return mean_rating\n",
        "\n",
        "print(score(CF_simple))"
      ],
      "metadata": {
        "colab": {
          "base_uri": "https://localhost:8080/"
        },
        "id": "ENQtYUTyzrMX",
        "outputId": "36f2e298-35d4-4bfe-faf2-1cb5801df5af"
      },
      "execution_count": 7,
      "outputs": [
        {
          "output_type": "stream",
          "name": "stdout",
          "text": [
            "1.0133343516227022\n"
          ]
        }
      ]
    },
    {
      "cell_type": "markdown",
      "source": [
        "### 이웃을 고려한 CF\n",
        "\n",
        "> 사용자 중 유사도가 높은 사람을 선정해서 그 사람들의 평점만 가지고 예측\n",
        "\n",
        "> KNN 방법 사용"
      ],
      "metadata": {
        "id": "FmeT2sB03jsO"
      }
    },
    {
      "cell_type": "code",
      "source": [
        "def score(model, neighbor_size = 0):\n",
        "  id_pairs = zip(x_test['user_id'], x_test['movie_id'])\n",
        "  y_pred = np.array([model(user, movie, neighbor_size) for (user, movie) in id_pairs])\n",
        "  y_true = np.array(x_test['rating'])\n",
        "\n",
        "  return RMSE(y_true, y_pred)\n",
        "\n",
        "def cf_knn(user_id, movie_id, neighbor_size = 0):\n",
        "  if movie_id in rating_matrix:\n",
        "    sim_scores = user_similarity[user_id].copy()\n",
        "    movie_ratings = rating_matrix[movie_id].copy()\n",
        "    none_rating_idx = movie_ratings[movie_ratings.isnull()].index\n",
        "\n",
        "    movie_ratings = movie_ratings.drop(none_rating_idx)\n",
        "    sim_scores = sim_scores.drop(none_rating_idx)\n",
        "\n",
        "    if neighbor_size == 0:\n",
        "      mean_rating = np.dot(sim_scores, movie_ratings)/sim_scores.sum()\n",
        "\n",
        "    else:\n",
        "      if len(sim_scores) > 1:   #이 조건은 평가자 수가 최소 2명 이상인 경우에만 그 다음 계산을 진행하도록 위함이다.\n",
        "        neighbor_size = min(neighbor_size, len(sim_scores))    #지정된 neighbor_size과 해당 영화를 평가한 총 사용자 수 중 적은 수를 이웃으로 설정\n",
        "        sim_scores = np.array(sim_scores)    #argsort를 사용하기 위함\n",
        "        movie_ratings = np.array(movie_ratings)\n",
        "        user_idx = np.argsort(sim_scores)\n",
        "        sim_scores = sim_scores[user_idx][-neighbor_size:]    #유사도 가장 높은 k명의 사용자 설정\n",
        "        movie_ratings = movie_ratings[user_idx][-neighbor_size:]    #k명 사용자에 대한 평점 추출\n",
        "        mean_rating = np.dot(sim_scores, movie_ratings)/sim_scores.sum()\n",
        "\n",
        "      else:\n",
        "        mean_rating = 3.0\n",
        "\n",
        "  else:\n",
        "    mean_rating = 3.0\n",
        "\n",
        "  return mean_rating\n",
        "\n",
        "score(cf_knn, neighbor_size = 30)"
      ],
      "metadata": {
        "colab": {
          "base_uri": "https://localhost:8080/"
        },
        "id": "H9hmYxWQ0ckZ",
        "outputId": "128e88da-ebd2-41dd-e197-08fd2b55ef20"
      },
      "execution_count": 8,
      "outputs": [
        {
          "output_type": "execute_result",
          "data": {
            "text/plain": [
              "1.007359306227529"
            ]
          },
          "metadata": {},
          "execution_count": 8
        }
      ]
    },
    {
      "cell_type": "code",
      "source": [
        "#### 위 코드는 동일\n",
        "rating_matrix = ratings.pivot(index = 'user_id', columns = 'movie_id', values = 'rating')   #실제 추천을 할 때는 train data가 아닌 전체 데이터 사용\n",
        "\n",
        "from sklearn.metrics.pairwise import cosine_similarity\n",
        "matrix_dummy = rating_matrix.copy().fillna(0)\n",
        "user_similarity = cosine_similarity(matrix_dummy, matrix_dummy)\n",
        "user_similarity = pd.DataFrame(user_similarity, index = rating_matrix.index, columns = rating_matrix.index)\n",
        "\n",
        "def recommender(user, n_items = 10, neighbor_size =20):\n",
        "  predictions = []\n",
        "  rated_index = rating_matrix.loc[user][rating_matrix.loc[user] > 0].index    #현 사용자가 이미 평가한 영화 표시\n",
        "  items = rating_matrix.loc[user].drop(rated_index)   #이미 평가한 영화는 제외\n",
        "\n",
        "  for item in items.index:\n",
        "    predictions.append(cf_knn(user, item, neighbor_size))   #각 아이템에 대해 cf_knn 함수를 통해 구한 예상 평점을 predictions에 추가\n",
        "\n",
        "  recommendations = pd.Series(data = predictions, index = items.index, dtype = float)\n",
        "  recommendations = recommendations.sort_values(ascending = False)[:n_items]\n",
        "  recommended_items = movies.loc[recommendations.index]['title']    #추천할 영화의 id에 해당하는 제목 추출\n",
        "  return recommended_items\n",
        "\n",
        "recommender(user = 2, n_items = 5, neighbor_size = 30)    #2번 사용자에게 5개 영화 추천, 이웃 크기는 30"
      ],
      "metadata": {
        "colab": {
          "base_uri": "https://localhost:8080/"
        },
        "id": "wFGiwC2y7N8f",
        "outputId": "9cdc313f-4227-49f8-dfb8-6443678871f7"
      },
      "execution_count": 10,
      "outputs": [
        {
          "output_type": "execute_result",
          "data": {
            "text/plain": [
              "movie_id\n",
              "1189                              That Old Feeling (1997)\n",
              "1293                     Ayn Rand: A Sense of Life (1997)\n",
              "1467                                     Cure, The (1995)\n",
              "1500    Prisoner of the Mountains (Kavkazsky Plennik) ...\n",
              "318                       Everyone Says I Love You (1996)\n",
              "Name: title, dtype: object"
            ]
          },
          "metadata": {},
          "execution_count": 10
        }
      ]
    },
    {
      "cell_type": "markdown",
      "source": [
        "### 최적의 이웃 크기 찾기"
      ],
      "metadata": {
        "id": "KARgQ_0wnMhU"
      }
    },
    {
      "cell_type": "code",
      "source": [
        "rating_matrix = x_train.pivot(index = 'user_id', columns = 'movie_id', values = 'rating')\n",
        "\n",
        "from sklearn.metrics.pairwise import cosine_similarity\n",
        "matrix_dummy = rating_matrix.copy().fillna(0)\n",
        "user_similarity = cosine_similarity(matrix_dummy, matrix_dummy)\n",
        "user_similarity = pd.DataFrame(user_similarity, index = rating_matrix.index, columns = rating_matrix.index)\n",
        "\n",
        "for neighbor_size in range(10, 61, 10):\n",
        "  print(\"Neighbor size = %d: RMSE = %4f\" % (neighbor_size, score(cf_knn, neighbor_size)))"
      ],
      "metadata": {
        "colab": {
          "base_uri": "https://localhost:8080/"
        },
        "id": "185pzbPqkah7",
        "outputId": "8a70fe4b-8a6d-4f2c-bc92-db391a8b3119"
      },
      "execution_count": 11,
      "outputs": [
        {
          "output_type": "stream",
          "name": "stdout",
          "text": [
            "Neighbor size = 10: RMSE = 1.026028\n",
            "Neighbor size = 20: RMSE = 1.013168\n",
            "Neighbor size = 30: RMSE = 1.011034\n",
            "Neighbor size = 40: RMSE = 1.010491\n",
            "Neighbor size = 50: RMSE = 1.010350\n",
            "Neighbor size = 60: RMSE = 1.010648\n"
          ]
        }
      ]
    },
    {
      "cell_type": "markdown",
      "source": [
        "### 사용자 기반 CF"
      ],
      "metadata": {
        "id": "o5DfWnF0u5Oj"
      }
    },
    {
      "cell_type": "code",
      "source": [
        "### 앞 코드는 동일\n",
        "rating_mean = rating_matrix.mean(axis = 1)\n",
        "rating_bias = (rating_matrix.T - rating_mean).T\n",
        "\n",
        "def cf_knn_bias(user_id, movie_id, neighbor_size = 0):\n",
        "  if movie_id in rating_bias:\n",
        "    sim_scores = user_similarity[user_id].copy()\n",
        "    movie_ratings = rating_bias[movie_id].copy()\n",
        "    none_rating_idx = movie_ratings[movie_ratings.isnull()].index\n",
        "\n",
        "    movie_ratings = movie_ratings.drop(none_rating_idx)\n",
        "    sim_scores = sim_scores.drop(none_rating_idx)\n",
        "\n",
        "    if neighbor_size == 0:\n",
        "      prediction = np.dot(sim_scores, movie_ratings)/sim_scores.sum()\n",
        "      prediction = prediction + rating_mean[user_id]\n",
        "\n",
        "    else:\n",
        "      if len(sim_scores) > 1:   #이 조건은 평가자 수가 최소 2명 이상인 경우에만 그 다음 계산을 진행하도록 위함이다.\n",
        "        neighbor_size = min(neighbor_size, len(sim_scores))    #지정된 neighbor_size과 해당 영화를 평가한 총 사용자 수 중 적은 수를 이웃으로 설정\n",
        "        sim_scores = np.array(sim_scores)    #argsort를 사용하기 위함\n",
        "        movie_ratings = np.array(movie_ratings)\n",
        "        user_idx = np.argsort(sim_scores)\n",
        "        sim_scores = sim_scores[user_idx][-neighbor_size:]    #유사도 가장 높은 k명의 사용자 설정\n",
        "        movie_ratings = movie_ratings[user_idx][-neighbor_size:]    #k명 사용자에 대한 평점 추출\n",
        "        prediction = np.dot(sim_scores, movie_ratings)/sim_scores.sum()\n",
        "        prediction = prediction + rating_mean[user_id]\n",
        "\n",
        "      else:\n",
        "        prediction = rating_mean[user_id]\n",
        "\n",
        "  else:\n",
        "    prediction = rating_mean[user_id]\n",
        "\n",
        "  return prediction\n",
        "\n",
        "score(cf_knn_bias, 30)"
      ],
      "metadata": {
        "colab": {
          "base_uri": "https://localhost:8080/"
        },
        "id": "aXqCUXA_oGlZ",
        "outputId": "29b37e8b-029e-49c6-9345-2f881359a351"
      },
      "execution_count": 12,
      "outputs": [
        {
          "output_type": "execute_result",
          "data": {
            "text/plain": [
              "0.9479610425363816"
            ]
          },
          "metadata": {},
          "execution_count": 12
        }
      ]
    },
    {
      "cell_type": "code",
      "source": [],
      "metadata": {
        "id": "yQozQdOzwKs6"
      },
      "execution_count": null,
      "outputs": []
    }
  ]
}