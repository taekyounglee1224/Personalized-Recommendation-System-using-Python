{
  "nbformat": 4,
  "nbformat_minor": 0,
  "metadata": {
    "colab": {
      "provenance": []
    },
    "kernelspec": {
      "name": "python3",
      "display_name": "Python 3"
    },
    "language_info": {
      "name": "python"
    }
  },
  "cells": [
    {
      "cell_type": "markdown",
      "source": [
        "### Train/Test 분리 MF 알고리즘"
      ],
      "metadata": {
        "id": "E1RDp_V2CJR6"
      }
    },
    {
      "cell_type": "code",
      "execution_count": 1,
      "metadata": {
        "id": "ZObO3FjAB7su"
      },
      "outputs": [],
      "source": [
        "import numpy as np\n",
        "import pandas as pd\n",
        "\n",
        "r_cols = ['user_id', 'movie_id', 'rating', 'timestamp']\n",
        "ratings = pd.read_csv('/content/drive/MyDrive/recosys/u.data', sep = '\\t', names = r_cols, encoding = 'latin-1')\n",
        "ratings = ratings[['user_id', 'movie_id', 'rating']].astype(int)\n",
        "\n",
        "u_cols = ['user_id', 'age', 'sex', 'occupation', 'zip_code']\n",
        "users = pd.read_csv('/content/drive/MyDrive/recosys/u.user', sep = '|', names = u_cols, encoding = 'latin-1')\n",
        "\n",
        "i_cols = ['movie_id', 'title', 'release_date', 'video_release_date', 'IMDB URL', 'unknown', 'Action',\n",
        "          'Adventure', 'Animation', 'Children\\'s', 'Comedy', 'Crime', 'Documentary', 'Drama', 'Fantasy', 'Film_Horror',\n",
        "          'Horror', 'Musical', 'Mystery', 'Romance', 'Sci-Fi', 'Thriller', 'war', 'western']\n",
        "\n",
        "movies = pd.read_csv('/content/drive/MyDrive/recosys/u.item', sep = '|', names = i_cols, encoding = 'latin-1')"
      ]
    },
    {
      "cell_type": "markdown",
      "source": [
        "#### Train/Test 분리"
      ],
      "metadata": {
        "id": "4zLv4UYbC6t-"
      }
    },
    {
      "cell_type": "code",
      "source": [
        "from sklearn.utils import  shuffle\n",
        "TRAIN_SIZE = 0.75\n",
        "ratings = shuffle(ratings, random_state = 1)\n",
        "cutoff = int(TRAIN_SIZE * len(ratings))\n",
        "ratings_train = ratings.iloc[:cutoff]\n",
        "ratings_test = ratings.iloc[cutoff:]"
      ],
      "metadata": {
        "id": "TS_uBd8qCeoX"
      },
      "execution_count": 2,
      "outputs": []
    },
    {
      "cell_type": "markdown",
      "source": [
        "### 새로운 class NEW_MF 생성"
      ],
      "metadata": {
        "id": "aCXHy8q1DBqa"
      }
    },
    {
      "cell_type": "code",
      "source": [
        "class NEW_MF():\n",
        "  def __init__(self, ratings, K, alpha, beta, iterations, verbose = True):\n",
        "    self.R = np.array(ratings)      #DataFrame 형식의 평점(ratings)을 array로 변환에서 self.R에 저장\n",
        "    item_id_index = []\n",
        "    index_item_id = []\n",
        "\n",
        "    for i, one_id in enumerate(ratings):\n",
        "      item_id_index.append([one_id, i])\n",
        "      index_item_id.append([i, one_id])\n",
        "\n",
        "    self.item_id_index = dict(item_id_index)\n",
        "    self.index_item_id = dict(index_item_id)\n",
        "    user_id_index = []\n",
        "    index_user_id = []\n",
        "\n",
        "    for i, one_id in enumerate(ratings.T):\n",
        "      user_id_index.append([one_id, i])\n",
        "      index_user_id.append([i, one_id])\n",
        "\n",
        "    self.user_id_index = dict(user_id_index)\n",
        "    self.index_user_id = dict(index_user_id)\n",
        "\n",
        "    self.num_users, self.num_items = np.shape(self.R)     #사용자 수와 아이템 수를 받아온다\n",
        "    self.K = K\n",
        "    self.alpha = alpha\n",
        "    self.beta = beta\n",
        "    self.iterations = iterations\n",
        "    self.verbose = verbose\n",
        "\n",
        "\n",
        "  def rmse(self) :\n",
        "    xs, ys = self.R.nonzero()     #R에 평점이 있는 요소(0이 아닌 요소) 인덱스 가져오기\n",
        "    self.predictions = []\n",
        "    self.errors = []\n",
        "\n",
        "    for x, y in zip(xs, ys):      #평점이 있는 요소 각각(사용자 x, 아이템 y)에 대해 아래 코드 작성\n",
        "      prediction = self.get_prediction(x,y)\n",
        "      self.predictions.append(prediction)\n",
        "      self.errors.append(self.R[x,y] - prediction)\n",
        "\n",
        "    self.predictions = np.array(self.predictions)\n",
        "    self.errors = np.array(self.errors)\n",
        "    return np.sqrt(np.mean(self.errors**2))     #error로 RMSE 계산\n",
        "\n",
        "\n",
        "  def set_test(self, ratings_test):\n",
        "    test_set = []\n",
        "    for i in range(len(ratings_test)):\n",
        "      x = self.user_id_index[ratings_test.iloc[i,0]]\n",
        "      y = self.item_id_index[ratings_test.iloc[i,1]]\n",
        "      z = ratings_test.iloc[i,2]\n",
        "      test_set.append([x,y,z])\n",
        "      self.R[x,y] = 0\n",
        "\n",
        "    self.test_set = test_set\n",
        "    return test_set\n",
        "\n",
        "  def test_rmse(self):\n",
        "    error = 0\n",
        "    for one_set in self.test_set:\n",
        "      predicted = self.get_prediction(one_set[0], one_set[1])\n",
        "      error += pow(one_set[2] - predicted, 2)\n",
        "    return np.sqrt(error/len(self.test_set))\n",
        "\n",
        "  def train(self):      #P, Q, bu, bd값 업데이트하는 함수\n",
        "    self.P = np.random.normal(scale = 1./self.K, size = (self.num_users, self.K))\n",
        "    self.Q = np.random.normal(scale = 1./self.K, size = (self.num_items, self.K))\n",
        "\n",
        "    self.b_u = np.zeros(self.num_users)\n",
        "    self.b_d = np.zeros(self.num_items)\n",
        "    self.b = np.mean(self.R[self.R.nonzero()])\n",
        "\n",
        "    rows, columns = self.R.nonzero()      #평점행렬 R 중 0이 아닌 요소의 인덱스를 가져온다\n",
        "    self.samples = [(i, j, self.R[i, j]) for i, j in zip(rows, columns)]      #SGD를 적용할 대상, 즉 평점이 있는 요소의 인덱스와 평점을 리스트로 만들어서 samples에 저장한다.\n",
        "\n",
        "    training_process = []\n",
        "    for i in range(self.iterations):\n",
        "      np.random.shuffle(self.samples)\n",
        "      self.sgd()\n",
        "      rmse = self.rmse()\n",
        "      training_process.append((i+1, rmse))\n",
        "      if self.verbose:\n",
        "        if (i + 1)% 10 == 0:\n",
        "          print(\"Iteration: %d; Train RMSE = %.4f\" % (i+1, rmse))\n",
        "\n",
        "    return training_process\n",
        "\n",
        "  def test(self):\n",
        "    self.P = np.random.normal(scale = 1./self.K, size = (self.num_users, self.K))\n",
        "    self.Q = np.random.normal(scale = 1./self.K, size = (self.num_items, self.K))\n",
        "\n",
        "    self.b_u = np.zeros(self.num_users)\n",
        "    self.b_d = np.zeros(self.num_items)\n",
        "    self.b = np.mean(self.R[self.R.nonzero()])\n",
        "\n",
        "    rows, columns = self.R.nonzero()      #평점행렬 R 중 0이 아닌 요소의 인덱스를 가져온다\n",
        "    self.samples = [(i, j, self.R[i, j]) for i, j in zip(rows, columns)]      #SGD를 적용할 대상, 즉 평점이 있는 요소의 인덱스와 평점을 리스트로 만들어서 samples에 저장한다.\n",
        "\n",
        "    training_process = []\n",
        "    for i in range(self.iterations):\n",
        "      np.random.shuffle(self.samples)\n",
        "      self.sgd()\n",
        "      rmse1 = self.rmse()\n",
        "      rmse2 = self.test_rmse()\n",
        "      training_process.append((i+1, rmse1, rmse2))\n",
        "      if self.verbose:\n",
        "        if (i + 1)% 10 == 0:\n",
        "          print(\"Iteration: %d; Train RMSE = %.4f ; Test RMSE = %.4f\" % (i+1, rmse1, rmse2))\n",
        "\n",
        "    return training_process\n",
        "\n",
        "  def get_prediction(self, i, j):\n",
        "    prediction = self.b + self.b_u[i] + self.b_d[j] + self.P[i, :].dot(self.Q[j, :].T)\n",
        "    return prediction\n",
        "\n",
        "  def get_one_prediction(self, user_id, item_id):\n",
        "    return np.round(self.get_prediction(self.user_id_index[user_id], self.item_id_index[item_id]), 4)\n",
        "\n",
        "  def full_prediction(self):\n",
        "    return np.round(self.b + self.b_u[:, np.newaxis] + self.b_d[np.newaxis, :] + self.P.dot(self.Q.T), 4)\n",
        "\n",
        "  def sgd(self):\n",
        "    for i, j, r in self.samples:\n",
        "      prediction = self.get_prediction(i, j)\n",
        "      e = (r - prediction)\n",
        "\n",
        "      self.b_u[i] += self.alpha * (e - self.beta*self.b_u[i])\n",
        "      self.b_d[j] += self.alpha * (e - self.beta*self.b_d[j])\n",
        "\n",
        "      self.P[i, :] += self.alpha * (e * self.Q[j, :] - self.beta*self.P[i, :])\n",
        "      self.Q[j, :] += self.alpha * (e * self.P[i, :] - self.beta*self.Q[j, :])\n",
        "\n",
        "R_temp = ratings.pivot(index = 'user_id', columns = 'movie_id', values = 'rating').fillna(0)\n",
        "mf = NEW_MF(R_temp, K = 30, alpha = 0.001, beta = 0.02, iterations = 100, verbose = True)\n",
        "test_set = mf.set_test(ratings_test)\n",
        "result = mf.test()"
      ],
      "metadata": {
        "colab": {
          "base_uri": "https://localhost:8080/"
        },
        "id": "cHVblAnZCU0D",
        "outputId": "f16f0cc4-d808-47c0-b8eb-3cde49640685"
      },
      "execution_count": 13,
      "outputs": [
        {
          "output_type": "stream",
          "name": "stdout",
          "text": [
            "Iteration: 10; Train RMSE = 0.9659 ; Test RMSE = 0.9834\n",
            "Iteration: 20; Train RMSE = 0.9410 ; Test RMSE = 0.9645\n",
            "Iteration: 30; Train RMSE = 0.9298 ; Test RMSE = 0.9566\n",
            "Iteration: 40; Train RMSE = 0.9231 ; Test RMSE = 0.9524\n",
            "Iteration: 50; Train RMSE = 0.9184 ; Test RMSE = 0.9497\n",
            "Iteration: 60; Train RMSE = 0.9146 ; Test RMSE = 0.9479\n",
            "Iteration: 70; Train RMSE = 0.9111 ; Test RMSE = 0.9466\n",
            "Iteration: 80; Train RMSE = 0.9073 ; Test RMSE = 0.9454\n",
            "Iteration: 90; Train RMSE = 0.9028 ; Test RMSE = 0.9443\n",
            "Iteration: 100; Train RMSE = 0.8970 ; Test RMSE = 0.9429\n"
          ]
        }
      ]
    },
    {
      "cell_type": "code",
      "source": [
        "print(mf.full_prediction())\n",
        "print(mf.get_one_prediction(1,2))"
      ],
      "metadata": {
        "colab": {
          "base_uri": "https://localhost:8080/"
        },
        "id": "T9zUVhGnHUON",
        "outputId": "4754ecd1-113c-47cb-adb6-68eb355206c2"
      },
      "execution_count": 14,
      "outputs": [
        {
          "output_type": "stream",
          "name": "stdout",
          "text": [
            "[[3.7953 3.3796 3.05   ... 3.3422 3.4693 3.4858]\n",
            " [3.9307 3.4865 3.1209 ... 3.4242 3.5528 3.5534]\n",
            " [3.3253 2.8801 2.5401 ... 2.8067 2.9407 2.9307]\n",
            " ...\n",
            " [4.1931 3.7796 3.45   ... 3.7151 3.8132 3.8206]\n",
            " [4.3722 3.9039 3.5822 ... 3.8435 3.9505 3.9634]\n",
            " [3.8422 3.3788 3.021  ... 3.2897 3.4495 3.4018]]\n",
            "3.3796\n"
          ]
        }
      ]
    },
    {
      "cell_type": "code",
      "source": [],
      "metadata": {
        "id": "PKDt6j50KR8n"
      },
      "execution_count": null,
      "outputs": []
    }
  ]
}