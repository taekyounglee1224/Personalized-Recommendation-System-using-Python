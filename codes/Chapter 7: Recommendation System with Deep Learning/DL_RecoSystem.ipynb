{
  "nbformat": 4,
  "nbformat_minor": 0,
  "metadata": {
    "colab": {
      "provenance": []
    },
    "kernelspec": {
      "name": "python3",
      "display_name": "Python 3"
    },
    "language_info": {
      "name": "python"
    }
  },
  "cells": [
    {
      "cell_type": "code",
      "source": [
        "import numpy as np\n",
        "import pandas as pd\n",
        "\n",
        "r_cols = ['user_id', 'movie_id', 'rating', 'timestamp']\n",
        "ratings = pd.read_csv('/content/drive/MyDrive/recosys/u.data', sep = '\\t', names = r_cols, encoding = 'latin-1')\n",
        "\n",
        "ratings = ratings[['user_id', 'movie_id', 'rating']].astype(int)"
      ],
      "metadata": {
        "id": "DdtLexIOlcxf"
      },
      "execution_count": 2,
      "outputs": []
    },
    {
      "cell_type": "code",
      "source": [
        "from sklearn.utils import  shuffle\n",
        "TRAIN_SIZE = 0.75\n",
        "ratings = shuffle(ratings, random_state = 1)\n",
        "cutoff = int(TRAIN_SIZE * len(ratings))\n",
        "ratings_train = ratings.iloc[:cutoff]\n",
        "ratings_test = ratings.iloc[cutoff:]"
      ],
      "metadata": {
        "id": "pAguevjYoW9t"
      },
      "execution_count": 3,
      "outputs": []
    },
    {
      "cell_type": "markdown",
      "source": [
        "## Model 설계"
      ],
      "metadata": {
        "id": "kbOl0R4V1yey"
      }
    },
    {
      "cell_type": "code",
      "execution_count": 22,
      "metadata": {
        "id": "7BCzDlQEjgbC"
      },
      "outputs": [],
      "source": [
        "import tensorflow as tf\n",
        "from tensorflow.keras import layers\n",
        "from tensorflow.keras.models import Model\n",
        "from tensorflow.keras.layers import Input, Embedding, Dot, Add, Flatten\n",
        "from tensorflow.keras.regularizers import l2\n",
        "from tensorflow.keras.optimizers import SGD, Adamax\n",
        "\n",
        "K = 200   #잠재요인의 수\n",
        "mu = ratings_train.rating.mean()    #전체 평균 계산\n",
        "M = ratings.user_id.max() + 1\n",
        "N = ratings.movie_id.max() + 1      #사용자 아이디와 영화 아이디의 최댓값, 나중에 embedding에 사용\n",
        "\n",
        "def RMSE(y_true, y_pred):\n",
        "  return tf.sqrt(tf.reduce_mean(tf.square(y_true - y_pred)))      #y_true, y_pred는 신경망에서 실제값, 예측값을 나타내는 TensorFlow/Keras의 표준 변수\n",
        "\n",
        "user = Input(shape = (1,))\n",
        "item = Input(shape = (1,))\n",
        "P_embedding = Embedding(M,K, embeddings_regularizer = l2())(user)   #사용자 Embedding\n",
        "Q_embedding = Embedding(N,K, embeddings_regularizer = l2())(item)   #아이템 Embedding\n",
        "user_bias = Embedding(M,1, embeddings_regularizer = l2())(user)\n",
        "item_bias = Embedding(N,1, embeddings_regularizer = l2())(item)\n",
        "\n",
        "from tensorflow.keras.layers import Dense, Concatenate, Activation\n",
        "P_embedding = Flatten()(P_embedding)\n",
        "Q_embedding = Flatten()(Q_embedding)\n",
        "user_bias = Flatten()(user_bias)\n",
        "item_bias = Flatten()(item_bias)\n",
        "R = Concatenate()([P_embedding, Q_embedding, user_bias, item_bias])\n"
      ]
    },
    {
      "cell_type": "code",
      "source": [
        "R = Dense(2048)(R)\n",
        "R = Activation('relu')(R)\n",
        "R = Dense(256)(R)\n",
        "R = Activation('linear')(R)\n",
        "R = Dense(1)(R)\n",
        "\n",
        "model = Model(inputs = [user, item], outputs = R)\n",
        "model.compile(\n",
        "    loss = RMSE,\n",
        "    optimizer = SGD(),\n",
        "    metrics = [RMSE]\n",
        ")\n",
        "model.summary()"
      ],
      "metadata": {
        "colab": {
          "base_uri": "https://localhost:8080/"
        },
        "id": "rAAhpAzfocsW",
        "outputId": "566f94f9-947f-41ec-e015-8374b39c9ad9"
      },
      "execution_count": 23,
      "outputs": [
        {
          "output_type": "stream",
          "name": "stdout",
          "text": [
            "Model: \"model_3\"\n",
            "__________________________________________________________________________________________________\n",
            " Layer (type)                Output Shape                 Param #   Connected to                  \n",
            "==================================================================================================\n",
            " input_11 (InputLayer)       [(None, 1)]                  0         []                            \n",
            "                                                                                                  \n",
            " input_12 (InputLayer)       [(None, 1)]                  0         []                            \n",
            "                                                                                                  \n",
            " embedding_12 (Embedding)    (None, 1, 200)               188800    ['input_11[0][0]']            \n",
            "                                                                                                  \n",
            " embedding_13 (Embedding)    (None, 1, 200)               336600    ['input_12[0][0]']            \n",
            "                                                                                                  \n",
            " embedding_14 (Embedding)    (None, 1, 1)                 944       ['input_11[0][0]']            \n",
            "                                                                                                  \n",
            " embedding_15 (Embedding)    (None, 1, 1)                 1683      ['input_12[0][0]']            \n",
            "                                                                                                  \n",
            " flatten_6 (Flatten)         (None, 200)                  0         ['embedding_12[0][0]']        \n",
            "                                                                                                  \n",
            " flatten_7 (Flatten)         (None, 200)                  0         ['embedding_13[0][0]']        \n",
            "                                                                                                  \n",
            " flatten_8 (Flatten)         (None, 1)                    0         ['embedding_14[0][0]']        \n",
            "                                                                                                  \n",
            " flatten_9 (Flatten)         (None, 1)                    0         ['embedding_15[0][0]']        \n",
            "                                                                                                  \n",
            " concatenate_1 (Concatenate  (None, 402)                  0         ['flatten_6[0][0]',           \n",
            " )                                                                   'flatten_7[0][0]',           \n",
            "                                                                     'flatten_8[0][0]',           \n",
            "                                                                     'flatten_9[0][0]']           \n",
            "                                                                                                  \n",
            " dense_3 (Dense)             (None, 2048)                 825344    ['concatenate_1[0][0]']       \n",
            "                                                                                                  \n",
            " activation_2 (Activation)   (None, 2048)                 0         ['dense_3[0][0]']             \n",
            "                                                                                                  \n",
            " dense_4 (Dense)             (None, 256)                  524544    ['activation_2[0][0]']        \n",
            "                                                                                                  \n",
            " activation_3 (Activation)   (None, 256)                  0         ['dense_4[0][0]']             \n",
            "                                                                                                  \n",
            " dense_5 (Dense)             (None, 1)                    257       ['activation_3[0][0]']        \n",
            "                                                                                                  \n",
            "==================================================================================================\n",
            "Total params: 1878172 (7.16 MB)\n",
            "Trainable params: 1878172 (7.16 MB)\n",
            "Non-trainable params: 0 (0.00 Byte)\n",
            "__________________________________________________________________________________________________\n"
          ]
        }
      ]
    },
    {
      "cell_type": "markdown",
      "source": [
        "### Model Fit"
      ],
      "metadata": {
        "id": "DCprB0aG12vT"
      }
    },
    {
      "cell_type": "code",
      "source": [
        "result = model.fit(\n",
        "    x=[ratings_train.user_id.values, ratings_train.movie_id.values],\n",
        "    y=ratings_train.rating.values - mu,\n",
        "    epochs=65,\n",
        "    batch_size=512,\n",
        "    validation_data=(\n",
        "        [ratings_test.user_id.values, ratings_test.movie_id.values],\n",
        "        ratings_test.rating.values - mu\n",
        "    )\n",
        ")"
      ],
      "metadata": {
        "colab": {
          "base_uri": "https://localhost:8080/"
        },
        "id": "_ksGaFVOpmq6",
        "outputId": "5ac76e62-c9fe-4f76-9006-d29354ae75fd"
      },
      "execution_count": 24,
      "outputs": [
        {
          "output_type": "stream",
          "name": "stdout",
          "text": [
            "Epoch 1/65\n",
            "147/147 [==============================] - 18s 115ms/step - loss: 5.4047 - RMSE: 1.1252 - val_loss: 5.2790 - val_RMSE: 1.1253\n",
            "Epoch 2/65\n",
            "147/147 [==============================] - 16s 106ms/step - loss: 5.1594 - RMSE: 1.1244 - val_loss: 5.0410 - val_RMSE: 1.1245\n",
            "Epoch 3/65\n",
            "147/147 [==============================] - 15s 103ms/step - loss: 4.9282 - RMSE: 1.1237 - val_loss: 4.8166 - val_RMSE: 1.1238\n",
            "Epoch 4/65\n",
            "147/147 [==============================] - 15s 103ms/step - loss: 4.7101 - RMSE: 1.1230 - val_loss: 4.6049 - val_RMSE: 1.1230\n",
            "Epoch 5/65\n",
            "147/147 [==============================] - 15s 103ms/step - loss: 4.5046 - RMSE: 1.1221 - val_loss: 4.4055 - val_RMSE: 1.1224\n",
            "Epoch 6/65\n",
            "147/147 [==============================] - 15s 103ms/step - loss: 4.3107 - RMSE: 1.1214 - val_loss: 4.2174 - val_RMSE: 1.1217\n",
            "Epoch 7/65\n",
            "147/147 [==============================] - 15s 103ms/step - loss: 4.1277 - RMSE: 1.1207 - val_loss: 4.0399 - val_RMSE: 1.1209\n",
            "Epoch 8/65\n",
            "147/147 [==============================] - 15s 103ms/step - loss: 3.9554 - RMSE: 1.1198 - val_loss: 3.8727 - val_RMSE: 1.1203\n",
            "Epoch 9/65\n",
            "147/147 [==============================] - 15s 102ms/step - loss: 3.7927 - RMSE: 1.1191 - val_loss: 3.7148 - val_RMSE: 1.1194\n",
            "Epoch 10/65\n",
            "147/147 [==============================] - 15s 103ms/step - loss: 3.6394 - RMSE: 1.1181 - val_loss: 3.5658 - val_RMSE: 1.1186\n",
            "Epoch 11/65\n",
            "147/147 [==============================] - 15s 103ms/step - loss: 3.4945 - RMSE: 1.1173 - val_loss: 3.4251 - val_RMSE: 1.1175\n",
            "Epoch 12/65\n",
            "147/147 [==============================] - 16s 110ms/step - loss: 3.3578 - RMSE: 1.1160 - val_loss: 3.2925 - val_RMSE: 1.1165\n",
            "Epoch 13/65\n",
            "147/147 [==============================] - 19s 127ms/step - loss: 3.2287 - RMSE: 1.1148 - val_loss: 3.1673 - val_RMSE: 1.1153\n",
            "Epoch 14/65\n",
            "147/147 [==============================] - 19s 129ms/step - loss: 3.1070 - RMSE: 1.1138 - val_loss: 3.0490 - val_RMSE: 1.1140\n",
            "Epoch 15/65\n",
            "147/147 [==============================] - 17s 119ms/step - loss: 2.9919 - RMSE: 1.1118 - val_loss: 2.9371 - val_RMSE: 1.1123\n",
            "Epoch 16/65\n",
            "147/147 [==============================] - 18s 121ms/step - loss: 2.8832 - RMSE: 1.1101 - val_loss: 2.8317 - val_RMSE: 1.1109\n",
            "Epoch 17/65\n",
            "147/147 [==============================] - 18s 122ms/step - loss: 2.7803 - RMSE: 1.1087 - val_loss: 2.7316 - val_RMSE: 1.1087\n",
            "Epoch 18/65\n",
            "147/147 [==============================] - 18s 124ms/step - loss: 2.6830 - RMSE: 1.1064 - val_loss: 2.6371 - val_RMSE: 1.1065\n",
            "Epoch 19/65\n",
            "147/147 [==============================] - 16s 112ms/step - loss: 2.5909 - RMSE: 1.1038 - val_loss: 2.5477 - val_RMSE: 1.1040\n",
            "Epoch 20/65\n",
            "147/147 [==============================] - 17s 116ms/step - loss: 2.5037 - RMSE: 1.1011 - val_loss: 2.4629 - val_RMSE: 1.1011\n",
            "Epoch 21/65\n",
            "147/147 [==============================] - 19s 129ms/step - loss: 2.4207 - RMSE: 1.0979 - val_loss: 2.3825 - val_RMSE: 1.0979\n",
            "Epoch 22/65\n",
            "147/147 [==============================] - 19s 131ms/step - loss: 2.3420 - RMSE: 1.0939 - val_loss: 2.3059 - val_RMSE: 1.0941\n",
            "Epoch 23/65\n",
            "147/147 [==============================] - 19s 127ms/step - loss: 2.2671 - RMSE: 1.0897 - val_loss: 2.2329 - val_RMSE: 1.0894\n",
            "Epoch 24/65\n",
            "147/147 [==============================] - 19s 128ms/step - loss: 2.1956 - RMSE: 1.0844 - val_loss: 2.1635 - val_RMSE: 1.0845\n",
            "Epoch 25/65\n",
            "147/147 [==============================] - 18s 120ms/step - loss: 2.1273 - RMSE: 1.0787 - val_loss: 2.0971 - val_RMSE: 1.0787\n",
            "Epoch 26/65\n",
            "147/147 [==============================] - 18s 119ms/step - loss: 2.0619 - RMSE: 1.0721 - val_loss: 2.0333 - val_RMSE: 1.0719\n",
            "Epoch 27/65\n",
            "147/147 [==============================] - 16s 112ms/step - loss: 1.9992 - RMSE: 1.0647 - val_loss: 1.9724 - val_RMSE: 1.0647\n",
            "Epoch 28/65\n",
            "147/147 [==============================] - 20s 134ms/step - loss: 1.9389 - RMSE: 1.0565 - val_loss: 1.9139 - val_RMSE: 1.0566\n",
            "Epoch 29/65\n",
            "147/147 [==============================] - 16s 112ms/step - loss: 1.8810 - RMSE: 1.0474 - val_loss: 1.8581 - val_RMSE: 1.0483\n",
            "Epoch 30/65\n",
            "147/147 [==============================] - 18s 121ms/step - loss: 1.8253 - RMSE: 1.0378 - val_loss: 1.8048 - val_RMSE: 1.0396\n",
            "Epoch 31/65\n",
            "147/147 [==============================] - 18s 122ms/step - loss: 1.7721 - RMSE: 1.0278 - val_loss: 1.7534 - val_RMSE: 1.0302\n",
            "Epoch 32/65\n",
            "147/147 [==============================] - 17s 118ms/step - loss: 1.7215 - RMSE: 1.0182 - val_loss: 1.7055 - val_RMSE: 1.0218\n",
            "Epoch 33/65\n",
            "147/147 [==============================] - 17s 115ms/step - loss: 1.6732 - RMSE: 1.0082 - val_loss: 1.6596 - val_RMSE: 1.0131\n",
            "Epoch 34/65\n",
            "147/147 [==============================] - 17s 118ms/step - loss: 1.6278 - RMSE: 0.9989 - val_loss: 1.6167 - val_RMSE: 1.0053\n",
            "Epoch 35/65\n",
            "147/147 [==============================] - 18s 125ms/step - loss: 1.5851 - RMSE: 0.9902 - val_loss: 1.5766 - val_RMSE: 0.9984\n",
            "Epoch 36/65\n",
            "147/147 [==============================] - 19s 129ms/step - loss: 1.5449 - RMSE: 0.9823 - val_loss: 1.5393 - val_RMSE: 0.9924\n",
            "Epoch 37/65\n",
            "147/147 [==============================] - 18s 124ms/step - loss: 1.5074 - RMSE: 0.9756 - val_loss: 1.5042 - val_RMSE: 0.9870\n",
            "Epoch 38/65\n",
            "147/147 [==============================] - 17s 117ms/step - loss: 1.4724 - RMSE: 0.9694 - val_loss: 1.4713 - val_RMSE: 0.9820\n",
            "Epoch 39/65\n",
            "147/147 [==============================] - 17s 115ms/step - loss: 1.4396 - RMSE: 0.9636 - val_loss: 1.4414 - val_RMSE: 0.9787\n",
            "Epoch 40/65\n",
            "147/147 [==============================] - 17s 114ms/step - loss: 1.4089 - RMSE: 0.9590 - val_loss: 1.4121 - val_RMSE: 0.9744\n",
            "Epoch 41/65\n",
            "147/147 [==============================] - 18s 123ms/step - loss: 1.3802 - RMSE: 0.9545 - val_loss: 1.3852 - val_RMSE: 0.9712\n",
            "Epoch 42/65\n",
            "147/147 [==============================] - 18s 123ms/step - loss: 1.3533 - RMSE: 0.9504 - val_loss: 1.3600 - val_RMSE: 0.9684\n",
            "Epoch 43/65\n",
            "147/147 [==============================] - 17s 113ms/step - loss: 1.3281 - RMSE: 0.9467 - val_loss: 1.3381 - val_RMSE: 0.9675\n",
            "Epoch 44/65\n",
            "147/147 [==============================] - 20s 135ms/step - loss: 1.3044 - RMSE: 0.9437 - val_loss: 1.3136 - val_RMSE: 0.9630\n",
            "Epoch 45/65\n",
            "147/147 [==============================] - 17s 113ms/step - loss: 1.2822 - RMSE: 0.9413 - val_loss: 1.2933 - val_RMSE: 0.9616\n",
            "Epoch 46/65\n",
            "147/147 [==============================] - 17s 117ms/step - loss: 1.2615 - RMSE: 0.9389 - val_loss: 1.2736 - val_RMSE: 0.9597\n",
            "Epoch 47/65\n",
            "147/147 [==============================] - 19s 126ms/step - loss: 1.2421 - RMSE: 0.9365 - val_loss: 1.2549 - val_RMSE: 0.9578\n",
            "Epoch 48/65\n",
            "147/147 [==============================] - 18s 121ms/step - loss: 1.2236 - RMSE: 0.9344 - val_loss: 1.2372 - val_RMSE: 0.9559\n",
            "Epoch 49/65\n",
            "147/147 [==============================] - 17s 114ms/step - loss: 1.2063 - RMSE: 0.9328 - val_loss: 1.2206 - val_RMSE: 0.9544\n",
            "Epoch 50/65\n",
            "147/147 [==============================] - 18s 121ms/step - loss: 1.1902 - RMSE: 0.9312 - val_loss: 1.2053 - val_RMSE: 0.9532\n",
            "Epoch 51/65\n",
            "147/147 [==============================] - 17s 118ms/step - loss: 1.1750 - RMSE: 0.9298 - val_loss: 1.1909 - val_RMSE: 0.9522\n",
            "Epoch 52/65\n",
            "147/147 [==============================] - 18s 121ms/step - loss: 1.1607 - RMSE: 0.9282 - val_loss: 1.1787 - val_RMSE: 0.9525\n",
            "Epoch 53/65\n",
            "147/147 [==============================] - 17s 116ms/step - loss: 1.1471 - RMSE: 0.9271 - val_loss: 1.1665 - val_RMSE: 0.9522\n",
            "Epoch 54/65\n",
            "147/147 [==============================] - 16s 106ms/step - loss: 1.1348 - RMSE: 0.9262 - val_loss: 1.1526 - val_RMSE: 0.9496\n",
            "Epoch 55/65\n",
            "147/147 [==============================] - 15s 105ms/step - loss: 1.1226 - RMSE: 0.9249 - val_loss: 1.1422 - val_RMSE: 0.9499\n",
            "Epoch 56/65\n",
            "147/147 [==============================] - 15s 105ms/step - loss: 1.1117 - RMSE: 0.9242 - val_loss: 1.1324 - val_RMSE: 0.9501\n",
            "Epoch 57/65\n",
            "147/147 [==============================] - 15s 104ms/step - loss: 1.1011 - RMSE: 0.9237 - val_loss: 1.1210 - val_RMSE: 0.9482\n",
            "Epoch 58/65\n",
            "147/147 [==============================] - 15s 105ms/step - loss: 1.0913 - RMSE: 0.9228 - val_loss: 1.1117 - val_RMSE: 0.9479\n",
            "Epoch 59/65\n",
            "147/147 [==============================] - 16s 107ms/step - loss: 1.0822 - RMSE: 0.9225 - val_loss: 1.1020 - val_RMSE: 0.9466\n",
            "Epoch 60/65\n",
            "147/147 [==============================] - 17s 118ms/step - loss: 1.0731 - RMSE: 0.9215 - val_loss: 1.0962 - val_RMSE: 0.9488\n",
            "Epoch 61/65\n",
            "147/147 [==============================] - 16s 111ms/step - loss: 1.0651 - RMSE: 0.9218 - val_loss: 1.0856 - val_RMSE: 0.9457\n",
            "Epoch 62/65\n",
            "147/147 [==============================] - 15s 105ms/step - loss: 1.0573 - RMSE: 0.9208 - val_loss: 1.0782 - val_RMSE: 0.9455\n",
            "Epoch 63/65\n",
            "147/147 [==============================] - 15s 103ms/step - loss: 1.0499 - RMSE: 0.9206 - val_loss: 1.0715 - val_RMSE: 0.9455\n",
            "Epoch 64/65\n",
            "147/147 [==============================] - 15s 104ms/step - loss: 1.0431 - RMSE: 0.9205 - val_loss: 1.0646 - val_RMSE: 0.9450\n",
            "Epoch 65/65\n",
            "147/147 [==============================] - 15s 105ms/step - loss: 1.0366 - RMSE: 0.9196 - val_loss: 1.0585 - val_RMSE: 0.9449\n"
          ]
        }
      ]
    },
    {
      "cell_type": "code",
      "source": [
        "import matplotlib.pyplot as plt\n",
        "plt.plot(result.history['RMSE'], label = \"Train RMSE\")\n",
        "plt.plot(result.history['val_RMSE'], label = \"Test RMSE\")\n",
        "plt.legend()\n",
        "plt.show()"
      ],
      "metadata": {
        "colab": {
          "base_uri": "https://localhost:8080/",
          "height": 430
        },
        "id": "pAP3PZM-rCGh",
        "outputId": "829896c9-3ccf-4432-c9df-3ee02fbeaf1f"
      },
      "execution_count": 25,
      "outputs": [
        {
          "output_type": "display_data",
          "data": {
            "text/plain": [
              "<Figure size 640x480 with 1 Axes>"
            ],
            "image/png": "[encoded data removed]"
          },
          "metadata": {}
        }
      ]
    },
    {
      "cell_type": "markdown",
      "source": [
        "### Prediction"
      ],
      "metadata": {
        "id": "OOTvY2SE16RD"
      }
    },
    {
      "cell_type": "code",
      "source": [
        "user_ids = ratings_test.user_id.values[0:6]\n",
        "movie_ids = ratings_test.movie_id.values[0:6]\n",
        "predictions = model.predict([user_ids, movie_ids]) + mu\n",
        "print(\"Actuals: \\n\", ratings_test[0:6])\n",
        "print()\n",
        "print(\"Predictions: \\n\", predictions)"
      ],
      "metadata": {
        "colab": {
          "base_uri": "https://localhost:8080/"
        },
        "id": "MwaPpDsfruRj",
        "outputId": "b04428a9-1060-4d8f-fb80-34533277e9cc"
      },
      "execution_count": 27,
      "outputs": [
        {
          "output_type": "stream",
          "name": "stdout",
          "text": [
            "1/1 [==============================] - 0s 255ms/step\n",
            "Actuals: \n",
            "        user_id  movie_id  rating\n",
            "53670      345       715       4\n",
            "77110       92       998       2\n",
            "69323      934       195       4\n",
            "85968      586       423       2\n",
            "30243      336       383       1\n",
            "43868      654       678       4\n",
            "\n",
            "Predictions: \n",
            " [[3.4797277]\n",
            " [2.8443956]\n",
            " [3.9904666]\n",
            " [3.6987407]\n",
            " [2.0264702]\n",
            " [2.8835802]]\n"
          ]
        }
      ]
    },
    {
      "cell_type": "code",
      "source": [],
      "metadata": {
        "id": "Y_5m9AZz2WHr"
      },
      "execution_count": null,
      "outputs": []
    }
  ]
}